{
  "nbformat": 4,
  "nbformat_minor": 0,
  "metadata": {
    "accelerator": "GPU",
    "colab": {
      "name": "NLP Course - Week 3 Exercise Question.ipynb",
      "provenance": [],
      "toc_visible": true,
      "include_colab_link": true
    },
    "kernelspec": {
      "display_name": "Python 3",
      "name": "python3"
    }
  },
  "cells": [
    {
      "cell_type": "markdown",
      "metadata": {
        "id": "view-in-github",
        "colab_type": "text"
      },
      "source": [
        "<a href=\"https://colab.research.google.com/github/iceberg12/coursera_tensorflow_in_practice/blob/main/NLP_Course_Week_3_Exercise_Question.ipynb\" target=\"_parent\"><img src=\"https://colab.research.google.com/assets/colab-badge.svg\" alt=\"Open In Colab\"/></a>"
      ]
    },
    {
      "cell_type": "code",
      "metadata": {
        "id": "zX4Kg8DUTKWO"
      },
      "source": [
        "#@title Licensed under the Apache License, Version 2.0 (the \"License\");\n",
        "# you may not use this file except in compliance with the License.\n",
        "# You may obtain a copy of the License at\n",
        "#\n",
        "# https://www.apache.org/licenses/LICENSE-2.0\n",
        "#\n",
        "# Unless required by applicable law or agreed to in writing, software\n",
        "# distributed under the License is distributed on an \"AS IS\" BASIS,\n",
        "# WITHOUT WARRANTIES OR CONDITIONS OF ANY KIND, either express or implied.\n",
        "# See the License for the specific language governing permissions and\n",
        "# limitations under the License."
      ],
      "execution_count": null,
      "outputs": []
    },
    {
      "cell_type": "code",
      "metadata": {
        "id": "hmA6EzkQJ5jt"
      },
      "source": [
        "import json\n",
        "import tensorflow as tf\n",
        "import csv\n",
        "import random\n",
        "import numpy as np\n",
        "\n",
        "from tensorflow.keras.preprocessing.text import Tokenizer\n",
        "from tensorflow.keras.preprocessing.sequence import pad_sequences\n",
        "from tensorflow.keras.utils import to_categorical\n",
        "from tensorflow.keras import regularizers\n",
        "\n",
        "\n",
        "embedding_dim = 100\n",
        "max_length = 16\n",
        "trunc_type='post'\n",
        "padding_type='post'\n",
        "oov_tok = \"<OOV>\"\n",
        "training_size= 16000 #Your dataset size here. Experiment using smaller values (i.e. 16000), but don't forget to train on at least 160000 to see the best effects\n",
        "test_portion=.1\n",
        "\n",
        "corpus = []\n"
      ],
      "execution_count": null,
      "outputs": []
    },
    {
      "cell_type": "code",
      "metadata": {
        "colab": {
          "base_uri": "https://localhost:8080/"
        },
        "id": "bM0l_dORKqE0",
        "outputId": "cc6533e7-3f85-4807-c796-c18b6ef7bd72"
      },
      "source": [
        "# Note that I cleaned the Stanford dataset to remove LATIN1 encoding to make it easier for Python CSV reader\n",
        "# You can do that yourself with:\n",
        "# iconv -f LATIN1 -t UTF8 training.1600000.processed.noemoticon.csv -o training_cleaned.csv\n",
        "# I then hosted it on my site to make it easier to use in this notebook\n",
        "\n",
        "!wget --no-check-certificate \\\n",
        "    https://storage.googleapis.com/laurencemoroney-blog.appspot.com/training_cleaned.csv \\\n",
        "    -O /tmp/training_cleaned.csv\n"
      ],
      "execution_count": null,
      "outputs": [
        {
          "output_type": "stream",
          "text": [
            "--2020-12-25 07:54:25--  https://storage.googleapis.com/laurencemoroney-blog.appspot.com/training_cleaned.csv\n",
            "Resolving storage.googleapis.com (storage.googleapis.com)... 74.125.142.128, 74.125.20.128, 74.125.195.128, ...\n",
            "Connecting to storage.googleapis.com (storage.googleapis.com)|74.125.142.128|:443... connected.\n",
            "HTTP request sent, awaiting response... 200 OK\n",
            "Length: 238942690 (228M) [application/octet-stream]\n",
            "Saving to: ‘/tmp/training_cleaned.csv’\n",
            "\n",
            "/tmp/training_clean 100%[===================>] 227.87M   218MB/s    in 1.0s    \n",
            "\n",
            "2020-12-25 07:54:26 (218 MB/s) - ‘/tmp/training_cleaned.csv’ saved [238942690/238942690]\n",
            "\n"
          ],
          "name": "stdout"
        }
      ]
    },
    {
      "cell_type": "code",
      "metadata": {
        "colab": {
          "base_uri": "https://localhost:8080/"
        },
        "id": "FGULYJ7B0msb",
        "outputId": "3a28f0a7-185c-4e94-89cf-f3fbec5bbf6d"
      },
      "source": [
        "!head -n 20 /tmp/training_cleaned.csv"
      ],
      "execution_count": null,
      "outputs": [
        {
          "output_type": "stream",
          "text": [
            "\"0\",\"1467810369\",\"Mon Apr 06 22:19:45 PDT 2009\",\"NO_QUERY\",\"_TheSpecialOne_\",\"@switchfoot http://twitpic.com/2y1zl - Awww, that's a bummer.  You shoulda got David Carr of Third Day to do it. ;D\"\n",
            "\"0\",\"1467810672\",\"Mon Apr 06 22:19:49 PDT 2009\",\"NO_QUERY\",\"scotthamilton\",\"is upset that he can't update his Facebook by texting it... and might cry as a result  School today also. Blah!\"\n",
            "\"0\",\"1467810917\",\"Mon Apr 06 22:19:53 PDT 2009\",\"NO_QUERY\",\"mattycus\",\"@Kenichan I dived many times for the ball. Managed to save 50%  The rest go out of bounds\"\n",
            "\"0\",\"1467811184\",\"Mon Apr 06 22:19:57 PDT 2009\",\"NO_QUERY\",\"ElleCTF\",\"my whole body feels itchy and like its on fire \"\n",
            "\"0\",\"1467811193\",\"Mon Apr 06 22:19:57 PDT 2009\",\"NO_QUERY\",\"Karoli\",\"@nationwideclass no, it's not behaving at all. i'm mad. why am i here? because I can't see you all over there. \"\n",
            "\"0\",\"1467811372\",\"Mon Apr 06 22:20:00 PDT 2009\",\"NO_QUERY\",\"joy_wolf\",\"@Kwesidei not the whole crew \"\n",
            "\"0\",\"1467811592\",\"Mon Apr 06 22:20:03 PDT 2009\",\"NO_QUERY\",\"mybirch\",\"Need a hug \"\n",
            "\"0\",\"1467811594\",\"Mon Apr 06 22:20:03 PDT 2009\",\"NO_QUERY\",\"coZZ\",\"@LOLTrish hey  long time no see! Yes.. Rains a bit ,only a bit  LOL , I'm fine thanks , how's you ?\"\n",
            "\"0\",\"1467811795\",\"Mon Apr 06 22:20:05 PDT 2009\",\"NO_QUERY\",\"2Hood4Hollywood\",\"@Tatiana_K nope they didn't have it \"\n",
            "\"0\",\"1467812025\",\"Mon Apr 06 22:20:09 PDT 2009\",\"NO_QUERY\",\"mimismo\",\"@twittera que me muera ? \"\n",
            "\"0\",\"1467812416\",\"Mon Apr 06 22:20:16 PDT 2009\",\"NO_QUERY\",\"erinx3leannexo\",\"spring break in plain city... it's snowing \"\n",
            "\"0\",\"1467812579\",\"Mon Apr 06 22:20:17 PDT 2009\",\"NO_QUERY\",\"pardonlauren\",\"I just re-pierced my ears \"\n",
            "\"0\",\"1467812723\",\"Mon Apr 06 22:20:19 PDT 2009\",\"NO_QUERY\",\"TLeC\",\"@caregiving I couldn't bear to watch it.  And I thought the UA loss was embarrassing . . . . .\"\n",
            "\"0\",\"1467812771\",\"Mon Apr 06 22:20:19 PDT 2009\",\"NO_QUERY\",\"robrobbierobert\",\"@octolinz16 It it counts, idk why I did either. you never talk to me anymore \"\n",
            "\"0\",\"1467812784\",\"Mon Apr 06 22:20:20 PDT 2009\",\"NO_QUERY\",\"bayofwolves\",\"@smarrison i would've been the first, but i didn't have a gun.    not really though, zac snyder's just a doucheclown.\"\n",
            "\"0\",\"1467812799\",\"Mon Apr 06 22:20:20 PDT 2009\",\"NO_QUERY\",\"HairByJess\",\"@iamjazzyfizzle I wish I got to watch it with you!! I miss you and @iamlilnicki  how was the premiere?!\"\n",
            "\"0\",\"1467812964\",\"Mon Apr 06 22:20:22 PDT 2009\",\"NO_QUERY\",\"lovesongwriter\",\"Hollis' death scene will hurt me severely to watch on film  wry is directors cut not out now?\"\n",
            "\"0\",\"1467813137\",\"Mon Apr 06 22:20:25 PDT 2009\",\"NO_QUERY\",\"armotley\",\"about to file taxes \"\n",
            "\"0\",\"1467813579\",\"Mon Apr 06 22:20:31 PDT 2009\",\"NO_QUERY\",\"starkissed\",\"@LettyA ahh ive always wanted to see rent  love the soundtrack!!\"\n",
            "\"0\",\"1467813782\",\"Mon Apr 06 22:20:34 PDT 2009\",\"NO_QUERY\",\"gi_gi_bee\",\"@FakerPattyPattz Oh dear. Were you drinking out of the forgotten table drinks? \"\n"
          ],
          "name": "stdout"
        }
      ]
    },
    {
      "cell_type": "code",
      "metadata": {
        "id": "Xb1-3V_k0R87"
      },
      "source": [
        "num_sentences = 0\n",
        "\n",
        "with open(\"/tmp/training_cleaned.csv\") as csvfile:\n",
        "    reader = csv.reader(csvfile, delimiter=',')\n",
        "    for row in reader:\n",
        "      # Your Code here. Create list items where the first item is the text, found in row[5], and the second is the label. Note that the label is a '0' or a '4' in the text. When it's the former, make\n",
        "      # your label to be 0, otherwise 1. Keep a count of the number of sentences in num_sentences\n",
        "        list_item=[]\n",
        "        # YOUR CODE HERE\n",
        "        list_item.append(row[5])\n",
        "        this_label = 0. if row[0] == '0' else 1.\n",
        "        list_item.append(this_label)\n",
        "\n",
        "        num_sentences = num_sentences + 1\n",
        "        corpus.append(list_item)"
      ],
      "execution_count": null,
      "outputs": []
    },
    {
      "cell_type": "code",
      "metadata": {
        "colab": {
          "base_uri": "https://localhost:8080/"
        },
        "id": "3kxblBUjEUX-",
        "outputId": "42958c92-60aa-42b9-ceb3-3c8c1b8484fe"
      },
      "source": [
        "print(num_sentences)\n",
        "print(len(corpus))\n",
        "print(corpus[1])\n",
        "\n",
        "# Expected Output:\n",
        "# 1600000\n",
        "# 1600000\n",
        "# [\"is upset that he can't update his Facebook by texting it... and might cry as a result  School today also. Blah!\", 0]"
      ],
      "execution_count": null,
      "outputs": [
        {
          "output_type": "stream",
          "text": [
            "1600000\n",
            "1600000\n",
            "[\"is upset that he can't update his Facebook by texting it... and might cry as a result  School today also. Blah!\", 0.0]\n"
          ],
          "name": "stdout"
        }
      ]
    },
    {
      "cell_type": "code",
      "metadata": {
        "colab": {
          "base_uri": "https://localhost:8080/"
        },
        "id": "ohOGz24lsNAD",
        "outputId": "5f69e4cf-6a28-4de6-d064-c934057baf8a"
      },
      "source": [
        "sentences=[]\n",
        "labels=[]\n",
        "random.shuffle(corpus)\n",
        "for x in range(training_size):\n",
        "    sentences.append(corpus[x][0]) # YOUR CODE HERE)\n",
        "    labels.append((corpus[x][1])) # YOUR CODE HERE)\n",
        "\n",
        "\n",
        "tokenizer = Tokenizer()\n",
        "tokenizer.fit_on_texts(sentences) # YOUR CODE HERE)\n",
        "\n",
        "word_index = tokenizer.word_index\n",
        "vocab_size=len(word_index) # YOUR CODE HERE)\n",
        "\n",
        "sequences = tokenizer.texts_to_sequences(sentences) # YOUR CODE HERE)\n",
        "padded = pad_sequences(sequences, padding=padding_type, maxlen=max_length) # YOUR CODE HERE)\n",
        "\n",
        "split = int(test_portion * training_size)\n",
        "\n",
        "test_sequences = padded[:split] # YOUR CODE HERE]\n",
        "training_sequences = padded[split:training_size] # YOUR CODE HERE]\n",
        "test_labels = labels[:split] # YOUR CODE HERE]\n",
        "training_labels = labels[split:training_size] # YOUR CODE HERE]\n",
        "\n",
        "print(len(test_labels))\n",
        "print(len(training_labels))"
      ],
      "execution_count": null,
      "outputs": [
        {
          "output_type": "stream",
          "text": [
            "1600\n",
            "14400\n"
          ],
          "name": "stdout"
        }
      ]
    },
    {
      "cell_type": "code",
      "metadata": {
        "colab": {
          "base_uri": "https://localhost:8080/"
        },
        "id": "gIrtRem1En3N",
        "outputId": "082705f2-954c-4b3b-cc12-1fc6bacc5e0c"
      },
      "source": [
        "print(vocab_size)\n",
        "print(word_index['i'])\n",
        "# Expected Output\n",
        "# 138858\n",
        "# 1"
      ],
      "execution_count": null,
      "outputs": [
        {
          "output_type": "stream",
          "text": [
            "26825\n",
            "1\n"
          ],
          "name": "stdout"
        }
      ]
    },
    {
      "cell_type": "code",
      "metadata": {
        "colab": {
          "base_uri": "https://localhost:8080/"
        },
        "id": "C1zdgJkusRh0",
        "outputId": "d92a5269-e9ba-4780-cf98-2c39aaa56a46"
      },
      "source": [
        "# Note this is the 100 dimension version of GloVe from Stanford\n",
        "# I unzipped and hosted it on my site to make this notebook easier\n",
        "!wget --no-check-certificate \\\n",
        "    https://storage.googleapis.com/laurencemoroney-blog.appspot.com/glove.6B.100d.txt \\\n",
        "    -O /tmp/glove.6B.100d.txt\n",
        "embeddings_index = {};\n",
        "with open('/tmp/glove.6B.100d.txt') as f:\n",
        "    for line in f:\n",
        "        values = line.split();\n",
        "        word = values[0];\n",
        "        coefs = np.asarray(values[1:], dtype='float32');\n",
        "        embeddings_index[word] = coefs;\n",
        "\n",
        "embeddings_matrix = np.zeros((vocab_size+1, embedding_dim));\n",
        "for word, i in word_index.items():\n",
        "    embedding_vector = embeddings_index.get(word);\n",
        "    if embedding_vector is not None:\n",
        "        embeddings_matrix[i] = embedding_vector;"
      ],
      "execution_count": null,
      "outputs": [
        {
          "output_type": "stream",
          "text": [
            "--2020-12-25 07:54:56--  https://storage.googleapis.com/laurencemoroney-blog.appspot.com/glove.6B.100d.txt\n",
            "Resolving storage.googleapis.com (storage.googleapis.com)... 74.125.142.128, 74.125.20.128, 74.125.195.128, ...\n",
            "Connecting to storage.googleapis.com (storage.googleapis.com)|74.125.142.128|:443... connected.\n",
            "HTTP request sent, awaiting response... 200 OK\n",
            "Length: 347116733 (331M) [text/plain]\n",
            "Saving to: ‘/tmp/glove.6B.100d.txt’\n",
            "\n",
            "/tmp/glove.6B.100d. 100%[===================>] 331.04M   226MB/s    in 1.5s    \n",
            "\n",
            "2020-12-25 07:54:57 (226 MB/s) - ‘/tmp/glove.6B.100d.txt’ saved [347116733/347116733]\n",
            "\n"
          ],
          "name": "stdout"
        }
      ]
    },
    {
      "cell_type": "code",
      "metadata": {
        "colab": {
          "base_uri": "https://localhost:8080/"
        },
        "id": "71NLk_lpFLNt",
        "outputId": "4d20b805-c557-48ad-ed51-bb02e9225b8f"
      },
      "source": [
        "print(len(embeddings_matrix))\n",
        "# Expected Output\n",
        "# 138859\n",
        "print(embeddings_matrix.shape)"
      ],
      "execution_count": null,
      "outputs": [
        {
          "output_type": "stream",
          "text": [
            "26826\n",
            "(26826, 100)\n"
          ],
          "name": "stdout"
        }
      ]
    },
    {
      "cell_type": "code",
      "metadata": {
        "colab": {
          "base_uri": "https://localhost:8080/"
        },
        "id": "9iWxz7D25hst",
        "outputId": "8892734a-9569-411d-fe6f-5254862405a9"
      },
      "source": [
        "type(training_labels)"
      ],
      "execution_count": null,
      "outputs": [
        {
          "output_type": "execute_result",
          "data": {
            "text/plain": [
              "list"
            ]
          },
          "metadata": {
            "tags": []
          },
          "execution_count": 34
        }
      ]
    },
    {
      "cell_type": "code",
      "metadata": {
        "colab": {
          "base_uri": "https://localhost:8080/"
        },
        "id": "iKKvbuEBOGFz",
        "outputId": "b4a20606-f30a-40e9-bd95-65c79b0a167e"
      },
      "source": [
        "model = tf.keras.Sequential([\n",
        "    tf.keras.layers.Embedding(vocab_size+1, embedding_dim, input_length=max_length, weights=[embeddings_matrix], trainable=False),\n",
        "    # YOUR CODE HERE - experiment with combining different types, such as convolutions and LSTMs\n",
        "    tf.keras.layers.Dropout(0.2),\n",
        "    tf.keras.layers.Conv1D(64, 5, activation='relu', kernel_regularizer=tf.keras.regularizers.l1_l2(l1=1e-5, l2=1e-4)),\n",
        "    tf.keras.layers.MaxPool1D(pool_size=4),\n",
        "    tf.keras.layers.Bidirectional(tf.keras.layers.LSTM(64, return_sequences=True)),\n",
        "    tf.keras.layers.Bidirectional(tf.keras.layers.LSTM(32)),\n",
        "    tf.keras.layers.Dense(1, activation='sigmoid')\n",
        "])\n",
        "model.compile(loss='binary_crossentropy', optimizer='adam', metrics=['accuracy']) # YOUR CODE HERE)\n",
        "model.summary()\n",
        "\n",
        "num_epochs = 20\n",
        "training_padded = np.array(training_sequences)\n",
        "training_labels = np.array(training_labels)\n",
        "testing_padded = np.array(test_sequences)\n",
        "testing_labels = np.array(test_labels)\n",
        "\n",
        "history = model.fit(training_padded, training_labels, epochs=num_epochs, validation_data=(testing_padded, testing_labels), verbose=2)\n",
        "\n",
        "print(\"Training Complete\")\n"
      ],
      "execution_count": null,
      "outputs": [
        {
          "output_type": "stream",
          "text": [
            "Model: \"sequential_11\"\n",
            "_________________________________________________________________\n",
            "Layer (type)                 Output Shape              Param #   \n",
            "=================================================================\n",
            "embedding_11 (Embedding)     (None, 16, 100)           2682600   \n",
            "_________________________________________________________________\n",
            "dropout_4 (Dropout)          (None, 16, 100)           0         \n",
            "_________________________________________________________________\n",
            "conv1d_11 (Conv1D)           (None, 12, 64)            32064     \n",
            "_________________________________________________________________\n",
            "max_pooling1d_6 (MaxPooling1 (None, 3, 64)             0         \n",
            "_________________________________________________________________\n",
            "bidirectional_2 (Bidirection (None, 3, 128)            66048     \n",
            "_________________________________________________________________\n",
            "bidirectional_3 (Bidirection (None, 64)                41216     \n",
            "_________________________________________________________________\n",
            "dense_11 (Dense)             (None, 1)                 65        \n",
            "=================================================================\n",
            "Total params: 2,821,993\n",
            "Trainable params: 139,393\n",
            "Non-trainable params: 2,682,600\n",
            "_________________________________________________________________\n",
            "Epoch 1/20\n",
            "450/450 - 7s - loss: 0.6484 - accuracy: 0.6451 - val_loss: 0.5987 - val_accuracy: 0.7081\n",
            "Epoch 2/20\n",
            "450/450 - 3s - loss: 0.5998 - accuracy: 0.6915 - val_loss: 0.5871 - val_accuracy: 0.7075\n",
            "Epoch 3/20\n",
            "450/450 - 3s - loss: 0.5690 - accuracy: 0.7204 - val_loss: 0.5777 - val_accuracy: 0.7088\n",
            "Epoch 4/20\n",
            "450/450 - 3s - loss: 0.5428 - accuracy: 0.7430 - val_loss: 0.5760 - val_accuracy: 0.7163\n",
            "Epoch 5/20\n",
            "450/450 - 3s - loss: 0.5161 - accuracy: 0.7612 - val_loss: 0.5981 - val_accuracy: 0.7050\n",
            "Epoch 6/20\n",
            "450/450 - 3s - loss: 0.4939 - accuracy: 0.7810 - val_loss: 0.5978 - val_accuracy: 0.7113\n",
            "Epoch 7/20\n",
            "450/450 - 3s - loss: 0.4696 - accuracy: 0.7927 - val_loss: 0.6188 - val_accuracy: 0.7081\n",
            "Epoch 8/20\n",
            "450/450 - 3s - loss: 0.4564 - accuracy: 0.8041 - val_loss: 0.6339 - val_accuracy: 0.6969\n",
            "Epoch 9/20\n",
            "450/450 - 3s - loss: 0.4390 - accuracy: 0.8133 - val_loss: 0.6162 - val_accuracy: 0.7019\n",
            "Epoch 10/20\n",
            "450/450 - 3s - loss: 0.4232 - accuracy: 0.8250 - val_loss: 0.6550 - val_accuracy: 0.6969\n",
            "Epoch 11/20\n",
            "450/450 - 3s - loss: 0.4012 - accuracy: 0.8358 - val_loss: 0.6467 - val_accuracy: 0.7050\n",
            "Epoch 12/20\n",
            "450/450 - 3s - loss: 0.3912 - accuracy: 0.8455 - val_loss: 0.7194 - val_accuracy: 0.6950\n",
            "Epoch 13/20\n",
            "450/450 - 3s - loss: 0.3793 - accuracy: 0.8531 - val_loss: 0.6961 - val_accuracy: 0.7025\n",
            "Epoch 14/20\n",
            "450/450 - 3s - loss: 0.3776 - accuracy: 0.8555 - val_loss: 0.7301 - val_accuracy: 0.6900\n",
            "Epoch 15/20\n",
            "450/450 - 3s - loss: 0.3639 - accuracy: 0.8614 - val_loss: 0.7732 - val_accuracy: 0.6925\n",
            "Epoch 16/20\n",
            "450/450 - 3s - loss: 0.3469 - accuracy: 0.8705 - val_loss: 0.7758 - val_accuracy: 0.6956\n",
            "Epoch 17/20\n",
            "450/450 - 3s - loss: 0.3485 - accuracy: 0.8719 - val_loss: 0.8540 - val_accuracy: 0.6938\n",
            "Epoch 18/20\n",
            "450/450 - 3s - loss: 0.3395 - accuracy: 0.8774 - val_loss: 0.8103 - val_accuracy: 0.7019\n",
            "Epoch 19/20\n",
            "450/450 - 3s - loss: 0.3249 - accuracy: 0.8873 - val_loss: 0.8532 - val_accuracy: 0.6938\n",
            "Epoch 20/20\n",
            "450/450 - 3s - loss: 0.3234 - accuracy: 0.8866 - val_loss: 0.8464 - val_accuracy: 0.6925\n",
            "Training Complete\n"
          ],
          "name": "stdout"
        }
      ]
    },
    {
      "cell_type": "code",
      "metadata": {
        "colab": {
          "base_uri": "https://localhost:8080/"
        },
        "id": "lItYOehE54Ot",
        "outputId": "e1b2ee42-d0e4-478b-8762-f7319bf4f33c"
      },
      "source": [
        "type(training_padded), type(training_labels), type(testing_padded), type(test_labels)"
      ],
      "execution_count": null,
      "outputs": [
        {
          "output_type": "execute_result",
          "data": {
            "text/plain": [
              "(numpy.ndarray, numpy.ndarray, numpy.ndarray, list)"
            ]
          },
          "metadata": {
            "tags": []
          },
          "execution_count": 38
        }
      ]
    },
    {
      "cell_type": "code",
      "metadata": {
        "id": "qxju4ItJKO8F"
      },
      "source": [
        "import matplotlib.image  as mpimg\n",
        "import matplotlib.pyplot as plt\n",
        "\n",
        "#-----------------------------------------------------------\n",
        "# Retrieve a list of list results on training and test data\n",
        "# sets for each training epoch\n",
        "#-----------------------------------------------------------\n",
        "acc=history.history['accuracy']\n",
        "val_acc=history.history['val_accuracy']\n",
        "loss=history.history['loss']\n",
        "val_loss=history.history['val_loss']\n",
        "\n",
        "epochs=range(len(acc)) # Get number of epochs\n",
        "\n",
        "#------------------------------------------------\n",
        "# Plot training and validation accuracy per epoch\n",
        "#------------------------------------------------\n",
        "plt.plot(epochs, acc, 'r')\n",
        "plt.plot(epochs, val_acc, 'b')\n",
        "plt.title('Training and validation accuracy')\n",
        "plt.xlabel(\"Epochs\")\n",
        "plt.ylabel(\"Accuracy\")\n",
        "plt.legend([\"Accuracy\", \"Validation Accuracy\"])\n",
        "\n",
        "plt.figure()\n",
        "\n",
        "#------------------------------------------------\n",
        "# Plot training and validation loss per epoch\n",
        "#------------------------------------------------\n",
        "plt.plot(epochs, loss, 'r')\n",
        "plt.plot(epochs, val_loss, 'b')\n",
        "plt.title('Training and validation loss')\n",
        "plt.xlabel(\"Epochs\")\n",
        "plt.ylabel(\"Loss\")\n",
        "plt.legend([\"Loss\", \"Validation Loss\"])\n",
        "\n",
        "plt.figure()\n",
        "\n",
        "\n",
        "# Expected Output\n",
        "# A chart where the validation loss does not increase sharply!"
      ],
      "execution_count": null,
      "outputs": []
    }
  ]
}