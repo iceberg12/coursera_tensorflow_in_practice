{
  "nbformat": 4,
  "nbformat_minor": 0,
  "metadata": {
    "accelerator": "GPU",
    "colab": {
      "name": "NLP_Week4_Exercise_Shakespeare_Question.ipynb",
      "provenance": [],
      "toc_visible": true,
      "include_colab_link": true
    },
    "kernelspec": {
      "display_name": "Python 3",
      "name": "python3"
    }
  },
  "cells": [
    {
      "cell_type": "markdown",
      "metadata": {
        "id": "view-in-github",
        "colab_type": "text"
      },
      "source": [
        "<a href=\"https://colab.research.google.com/github/iceberg12/coursera_tensorflow_in_practice/blob/main/NLP_Week4_Exercise_Shakespeare_Question.ipynb\" target=\"_parent\"><img src=\"https://colab.research.google.com/assets/colab-badge.svg\" alt=\"Open In Colab\"/></a>"
      ]
    },
    {
      "cell_type": "code",
      "metadata": {
        "id": "zX4Kg8DUTKWO"
      },
      "source": [
        "#@title Licensed under the Apache License, Version 2.0 (the \"License\");\n",
        "# you may not use this file except in compliance with the License.\n",
        "# You may obtain a copy of the License at\n",
        "#\n",
        "# https://www.apache.org/licenses/LICENSE-2.0\n",
        "#\n",
        "# Unless required by applicable law or agreed to in writing, software\n",
        "# distributed under the License is distributed on an \"AS IS\" BASIS,\n",
        "# WITHOUT WARRANTIES OR CONDITIONS OF ANY KIND, either express or implied.\n",
        "# See the License for the specific language governing permissions and\n",
        "# limitations under the License."
      ],
      "execution_count": null,
      "outputs": []
    },
    {
      "cell_type": "code",
      "metadata": {
        "id": "BOwsuGQQY9OL"
      },
      "source": [
        "import tensorflow as tf\n",
        "from tensorflow.keras.preprocessing.sequence import pad_sequences\n",
        "from tensorflow.keras.layers import Embedding, LSTM, Dense, Dropout, Bidirectional\n",
        "from tensorflow.keras.preprocessing.text import Tokenizer\n",
        "from tensorflow.keras.models import Sequential\n",
        "from tensorflow.keras.optimizers import Adam\n",
        "### YOUR CODE HERE\n",
        "# Figure out how to import regularizers\n",
        "from tensorflow.keras import regularizers\n",
        "###\n",
        "import tensorflow.keras.utils as ku \n",
        "import numpy as np "
      ],
      "execution_count": null,
      "outputs": []
    },
    {
      "cell_type": "code",
      "metadata": {
        "colab": {
          "base_uri": "https://localhost:8080/"
        },
        "id": "PRnDnCW-Z7qv",
        "outputId": "928fcd7e-7aa3-47c8-c0bc-03f89623bc8f"
      },
      "source": [
        "tokenizer = Tokenizer()\n",
        "!wget --no-check-certificate \\\n",
        "    https://storage.googleapis.com/laurencemoroney-blog.appspot.com/sonnets.txt \\\n",
        "    -O /tmp/sonnets.txt\n",
        "data = open('/tmp/sonnets.txt').read()\n",
        "\n",
        "corpus = data.lower().split(\"\\n\")\n",
        "\n",
        "\n",
        "tokenizer.fit_on_texts(corpus)\n",
        "total_words = len(tokenizer.word_index) + 1\n",
        "\n",
        "# create input sequences using list of tokens\n",
        "input_sequences = []\n",
        "for line in corpus:\n",
        "\ttoken_list = tokenizer.texts_to_sequences([line])[0]\n",
        "\tfor i in range(1, len(token_list)):\n",
        "\t\tn_gram_sequence = token_list[:i+1]\n",
        "\t\tinput_sequences.append(n_gram_sequence)\n",
        "\n",
        "\n",
        "# pad sequences \n",
        "max_sequence_len = max([len(x) for x in input_sequences])\n",
        "input_sequences = np.array(pad_sequences(input_sequences, maxlen=max_sequence_len, padding='pre'))\n",
        "\n",
        "# create predictors and label\n",
        "predictors, label = input_sequences[:,:-1],input_sequences[:,-1]\n",
        "\n",
        "label = ku.to_categorical(label, num_classes=total_words)"
      ],
      "execution_count": null,
      "outputs": [
        {
          "output_type": "stream",
          "text": [
            "--2020-12-25 09:39:17--  https://storage.googleapis.com/laurencemoroney-blog.appspot.com/sonnets.txt\n",
            "Resolving storage.googleapis.com (storage.googleapis.com)... 172.217.15.112, 172.217.164.144, 172.253.62.128, ...\n",
            "Connecting to storage.googleapis.com (storage.googleapis.com)|172.217.15.112|:443... connected.\n",
            "HTTP request sent, awaiting response... 200 OK\n",
            "Length: 93578 (91K) [text/plain]\n",
            "Saving to: ‘/tmp/sonnets.txt’\n",
            "\n",
            "\r/tmp/sonnets.txt      0%[                    ]       0  --.-KB/s               \r/tmp/sonnets.txt    100%[===================>]  91.38K  --.-KB/s    in 0.001s  \n",
            "\n",
            "2020-12-25 09:39:17 (102 MB/s) - ‘/tmp/sonnets.txt’ saved [93578/93578]\n",
            "\n"
          ],
          "name": "stdout"
        }
      ]
    },
    {
      "cell_type": "code",
      "metadata": {
        "colab": {
          "base_uri": "https://localhost:8080/"
        },
        "id": "w9vH8Y59ajYL",
        "outputId": "8c69d4b5-afc5-48db-a923-e01310194acc"
      },
      "source": [
        "model = Sequential()\n",
        "# model.add(# Your Embedding Layer)\n",
        "# model.add(# An LSTM Layer)\n",
        "# model.add(# A dropout layer)\n",
        "# model.add(# Another LSTM Layer)\n",
        "# model.add(# A Dense Layer including regularizers)\n",
        "# model.add(# A Dense Layer)\n",
        "model.add(Embedding(total_words, 100, input_length=max_sequence_len-1))\n",
        "model.add(Bidirectional(LSTM(150, return_sequences = True)))\n",
        "model.add(Dropout(0.2))\n",
        "model.add(LSTM(100))\n",
        "model.add(Dense(total_words/2, activation='relu', kernel_regularizer=regularizers.l2(0.01)))\n",
        "model.add(Dense(total_words, activation='softmax'))\n",
        "\n",
        "# Pick an optimizer\n",
        "# model.compile(# Pick a loss function and an optimizer)\n",
        "model.compile(loss='categorical_crossentropy', optimizer='adam', metrics=['accuracy'])\n",
        "print(model.summary())\n"
      ],
      "execution_count": null,
      "outputs": [
        {
          "output_type": "stream",
          "text": [
            "Model: \"sequential_1\"\n",
            "_________________________________________________________________\n",
            "Layer (type)                 Output Shape              Param #   \n",
            "=================================================================\n",
            "embedding_1 (Embedding)      (None, 10, 100)           321100    \n",
            "_________________________________________________________________\n",
            "bidirectional_1 (Bidirection (None, 10, 300)           301200    \n",
            "_________________________________________________________________\n",
            "dropout_1 (Dropout)          (None, 10, 300)           0         \n",
            "_________________________________________________________________\n",
            "lstm_3 (LSTM)                (None, 100)               160400    \n",
            "_________________________________________________________________\n",
            "dense_2 (Dense)              (None, 1605)              162105    \n",
            "_________________________________________________________________\n",
            "dense_3 (Dense)              (None, 3211)              5156866   \n",
            "=================================================================\n",
            "Total params: 6,101,671\n",
            "Trainable params: 6,101,671\n",
            "Non-trainable params: 0\n",
            "_________________________________________________________________\n",
            "None\n"
          ],
          "name": "stdout"
        }
      ]
    },
    {
      "cell_type": "code",
      "metadata": {
        "colab": {
          "base_uri": "https://localhost:8080/"
        },
        "id": "AIg2f1HBxqof",
        "outputId": "f5cb5ddd-1750-4bcf-f6f6-f280d8202099"
      },
      "source": [
        "earlystop = tf.keras.callbacks.EarlyStopping(\n",
        "    monitor='loss', min_delta=0, patience=1, verbose=0,\n",
        "    mode='auto', baseline=None, restore_best_weights=True\n",
        ")\n",
        "\n",
        "history = model.fit(predictors, label, epochs=20, callbacks=[earlystop], verbose=1)"
      ],
      "execution_count": null,
      "outputs": [
        {
          "output_type": "stream",
          "text": [
            "Epoch 1/20\n",
            "484/484 [==============================] - 6s 12ms/step - loss: 5.3793 - accuracy: 0.0760\n",
            "Epoch 2/20\n",
            "484/484 [==============================] - 6s 11ms/step - loss: 5.2671 - accuracy: 0.0805\n",
            "Epoch 3/20\n",
            "484/484 [==============================] - 6s 12ms/step - loss: 5.1611 - accuracy: 0.0906\n",
            "Epoch 4/20\n",
            "484/484 [==============================] - 6s 13ms/step - loss: 5.0631 - accuracy: 0.0971\n",
            "Epoch 5/20\n",
            "484/484 [==============================] - 6s 12ms/step - loss: 4.9639 - accuracy: 0.1090\n",
            "Epoch 6/20\n",
            "484/484 [==============================] - 6s 12ms/step - loss: 4.8580 - accuracy: 0.1159\n",
            "Epoch 7/20\n",
            "484/484 [==============================] - 6s 11ms/step - loss: 4.7646 - accuracy: 0.1246\n",
            "Epoch 8/20\n",
            "484/484 [==============================] - 6s 12ms/step - loss: 4.6586 - accuracy: 0.1364\n",
            "Epoch 9/20\n",
            "484/484 [==============================] - 5s 11ms/step - loss: 4.5679 - accuracy: 0.1411\n",
            "Epoch 10/20\n",
            "484/484 [==============================] - 6s 12ms/step - loss: 4.4600 - accuracy: 0.1555\n",
            "Epoch 11/20\n",
            "484/484 [==============================] - 6s 12ms/step - loss: 4.3617 - accuracy: 0.1650\n",
            "Epoch 12/20\n",
            "484/484 [==============================] - 6s 11ms/step - loss: 4.2665 - accuracy: 0.1747\n",
            "Epoch 13/20\n",
            "484/484 [==============================] - 6s 12ms/step - loss: 4.1702 - accuracy: 0.1890\n",
            "Epoch 14/20\n",
            "484/484 [==============================] - 6s 12ms/step - loss: 4.0716 - accuracy: 0.2029\n",
            "Epoch 15/20\n",
            "484/484 [==============================] - 6s 12ms/step - loss: 3.9753 - accuracy: 0.2147\n",
            "Epoch 16/20\n",
            "484/484 [==============================] - 6s 12ms/step - loss: 3.8792 - accuracy: 0.2310\n",
            "Epoch 17/20\n",
            "484/484 [==============================] - 6s 12ms/step - loss: 3.7897 - accuracy: 0.2462\n",
            "Epoch 18/20\n",
            "484/484 [==============================] - 6s 12ms/step - loss: 3.7038 - accuracy: 0.2654\n",
            "Epoch 19/20\n",
            "484/484 [==============================] - 6s 12ms/step - loss: 3.6042 - accuracy: 0.2811\n",
            "Epoch 20/20\n",
            "484/484 [==============================] - 6s 12ms/step - loss: 3.5232 - accuracy: 0.3011\n"
          ],
          "name": "stdout"
        }
      ]
    },
    {
      "cell_type": "code",
      "metadata": {
        "id": "1fXTEO3GJ282"
      },
      "source": [
        "import matplotlib.pyplot as plt\n",
        "acc = history.history['accuracy']\n",
        "loss = history.history['loss']\n",
        "\n",
        "epochs = range(len(acc))\n",
        "\n",
        "plt.plot(epochs, acc, 'b', label='Training accuracy')\n",
        "plt.title('Training accuracy')\n",
        "\n",
        "plt.figure()\n",
        "\n",
        "plt.plot(epochs, loss, 'b', label='Training Loss')\n",
        "plt.title('Training loss')\n",
        "plt.legend()\n",
        "\n",
        "plt.show()"
      ],
      "execution_count": null,
      "outputs": []
    },
    {
      "cell_type": "code",
      "metadata": {
        "id": "6Vc6PHgxa6Hm"
      },
      "source": [
        "seed_text = \"Help me Obi Wan Kenobi, you're my only hope\"\n",
        "next_words = 100\n",
        "  \n",
        "for _ in range(next_words):\n",
        "\ttoken_list = tokenizer.texts_to_sequences([seed_text])[0]\n",
        "\ttoken_list = pad_sequences([token_list], maxlen=max_sequence_len-1, padding='pre')\n",
        "\tpredicted = model.predict_classes(token_list, verbose=0)\n",
        "\toutput_word = \"\"\n",
        "\tfor word, index in tokenizer.word_index.items():\n",
        "\t\tif index == predicted:\n",
        "\t\t\toutput_word = word\n",
        "\t\t\tbreak\n",
        "\tseed_text += \" \" + output_word\n",
        "print(seed_text)"
      ],
      "execution_count": null,
      "outputs": []
    }
  ]
}